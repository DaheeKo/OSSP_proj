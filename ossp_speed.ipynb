{
  "nbformat": 4,
  "nbformat_minor": 0,
  "metadata": {
    "colab": {
      "name": "ossp_speed.ipynb",
      "provenance": [],
      "authorship_tag": "ABX9TyPuDurbw+qbn3XlpnfGb1P9",
      "include_colab_link": true
    },
    "kernelspec": {
      "name": "python3",
      "display_name": "Python 3"
    },
    "language_info": {
      "name": "python"
    }
  },
  "cells": [
    {
      "cell_type": "markdown",
      "metadata": {
        "id": "view-in-github",
        "colab_type": "text"
      },
      "source": [
        "<a href=\"https://colab.research.google.com/github/DaheeKo/OSSP_proj/blob/main/ossp_speed.ipynb\" target=\"_parent\"><img src=\"https://colab.research.google.com/assets/colab-badge.svg\" alt=\"Open In Colab\"/></a>"
      ]
    },
    {
      "cell_type": "code",
      "metadata": {
        "id": "MFdGh_EzJ9l_"
      },
      "source": [
        "import math\n",
        "import numpy as np\n",
        "\n",
        "n1 = np.zeros((9,15))\n",
        "n2 = np.zeros((9,15))\n",
        "h1 = np.zeros((9,15))\n",
        "h2 = np.zeros((9,15))\n",
        "for i in range(9):\n",
        "  for j in range(15):\n",
        "    n1[i,j] = (30-2*i)*(0.9 ** j)\n",
        "    n2[i,j] = math.ceil(n1[i,j])\n",
        "    h1[i,j] = (30-2*i)*(0.8 ** j)\n",
        "    h2[i,j] = math.ceil(h1[i,j])\n",
        "\n",
        "#print('노말모드, 올림 전: \\n', n1)\n",
        "print('노말모드, 올림 후(실제 적용되는 스피드): \\n', n2)\n",
        "#print('하드모드, 올림 전: \\n', h1)\n",
        "print('하드모드, 올림 후(실제 적용되는 스피드) \\n', h2)\n"
      ],
      "execution_count": null,
      "outputs": []
    },
    {
      "cell_type": "code",
      "metadata": {
        "id": "v6JweZOYJ_f6"
      },
      "source": [
        "# 기존 코드대로\n",
        "import math\n",
        "import numpy as np\n",
        "\n",
        "n1 = np.zeros(15)\n",
        "n2 = np.zeros(15)\n",
        "h1 = np.zeros(15)\n",
        "h2 = np.zeros(15)\n",
        "for i in range(15):\n",
        "  n1[i] = 30*(0.9 ** i)\n",
        "  n2[i] = math.ceil(n1[i])\n",
        "  h1[i] = 20*(0.8 ** i)\n",
        "  h2[i] = math.ceil(h1[i])\n",
        "\n",
        "#print('노말모드, 올림 전: \\n', n1)\n",
        "print('노말모드, 올림 후(실제 적용되는 스피드): \\n', n2)\n",
        "#print('하드모드, 올림 전: \\n', h1)\n",
        "print('하드모드, 올림 후(실제 적용되는 스피드) \\n', h2)\n"
      ],
      "execution_count": null,
      "outputs": []
    }
  ]
}